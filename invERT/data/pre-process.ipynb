{
 "cells": [
  {
   "cell_type": "markdown",
   "metadata": {},
   "source": [
    "# Visualize and pre-process datatset\n",
    "## Imports"
   ]
  },
  {
   "cell_type": "code",
   "execution_count": 43,
   "metadata": {},
   "outputs": [],
   "source": [
    "import numpy as np\n",
    "from pathlib import Path\n",
    "import gzip\n",
    "import tqdm\n",
    "from typing import Tuple"
   ]
  },
  {
   "cell_type": "markdown",
   "metadata": {},
   "source": [
    "## Extract the gz archive.\n",
    "Data path"
   ]
  },
  {
   "cell_type": "code",
   "execution_count": 44,
   "metadata": {},
   "outputs": [
    {
     "name": "stdout",
     "output_type": "stream",
     "text": [
      "2022 files in ..\\..\\..\\dataset\\2\\models_by_code\\models\\DYKE_FOLD_DYKE.\n"
     ]
    }
   ],
   "source": [
    "data_path: Path = Path(\"../../../dataset/2/models_by_code/models/DYKE_FOLD_DYKE\")\n",
    "files_to_extract = data_path.glob(\"*\")\n",
    "nbr_files_to_extract = len([_ for _ in data_path.glob(\"*\")])\n",
    "print(f\"{nbr_files_to_extract} files in {data_path}.\")"
   ]
  },
  {
   "cell_type": "markdown",
   "metadata": {},
   "source": [
    "Extract every archive of the folder"
   ]
  },
  {
   "cell_type": "code",
   "execution_count": 48,
   "metadata": {},
   "outputs": [
    {
     "name": "stderr",
     "output_type": "stream",
     "text": [
      "Extraction:   0%|          | 0/2022 [00:00<?, ?file/s]"
     ]
    },
    {
     "name": "stdout",
     "output_type": "stream",
     "text": [
      "8000000\n",
      "[[5 5 5 ... 5 5 5]\n",
      " [5 5 5 ... 5 5 5]\n",
      " [5 5 5 ... 5 5 5]\n",
      " ...\n",
      " [7 7 7 ... 5 5 5]\n",
      " [7 7 7 ... 5 5 5]\n",
      " [7 7 7 ... 5 5 5]]\n",
      "[[7 7 7 ... 1 1 1]\n",
      " [7 7 7 ... 1 1 1]\n",
      " [7 7 7 ... 1 1 1]\n",
      " ...\n",
      " [5 5 5 ... 3 3 3]\n",
      " [5 5 5 ... 3 3 3]\n",
      " [5 5 5 ... 3 3 3]]\n"
     ]
    },
    {
     "name": "stderr",
     "output_type": "stream",
     "text": [
      "\n"
     ]
    },
    {
     "data": {
      "text/plain": [
       "'\\n    # Reformat the array\\n    g12_array = g12_array.reshape((200, 200, 200))  # We now have (z, x, y) array.\\n    for array_sample, index in enumerate(indexes_list):\\n        if counter + array_sample == 500:\\n            npz_file_counter, combined_array = save_array(npz_file_counter, combined_array)\\n            counter = 0\\n        combined_array[counter + array_sample] = g12_array[:, :, index]\\n    counter += len(indexes_list)\\n    for array_sample, index in enumerate(indexes_list):\\n        if counter + array_sample == 500:\\n            npz_file_counter, combined_array = save_array(npz_file_counter, combined_array)\\n            counter = 0\\n        combined_array[counter + array_sample] = g12_array[:, index, :]\\n    counter += len(indexes_list)\\n    file.unlink()\\n_ = save_array(npz_file_counter, combined_array)'"
      ]
     },
     "execution_count": 48,
     "metadata": {},
     "output_type": "execute_result"
    }
   ],
   "source": [
    "def remove_all_suffixes(path: Path) -> Path:\n",
    "    while path.suffix:\n",
    "        path = path.with_suffix(\"\")\n",
    "    return path\n",
    "\n",
    "def save_array(npz_file_counter: int,\n",
    "               combined_array: np.ndarray\n",
    "               ) -> Tuple[int, np.ndarray]:\n",
    "    np.savez_compressed(data_path / f\"{npz_file_counter}.npz\", combined_array)\n",
    "    print(f\"Saved {npz_file_counter}.npz.\")\n",
    "    npz_file_counter += 1\n",
    "    # Return a new empty buffer with the same dimensions.\n",
    "    return npz_file_counter, np.empty((500, 200, 200), dtype=np.float64)\n",
    "\n",
    "indexes_list = [0, 100, 199]\n",
    "\n",
    "counter: int = 0\n",
    "npz_file_counter: int = 0\n",
    "\n",
    "combined_array: np.ndarray = np.empty((500, 200, 200), dtype=np.float64)\n",
    "\n",
    "for file in tqdm.tqdm(files_to_extract, desc=\"Extraction\", unit=\"file\", total=nbr_files_to_extract):\n",
    "    with gzip.open(file, 'rb') as gz_file:\n",
    "        g12_array = np.loadtxt(gz_file, dtype=np.int8)\n",
    "    break\n",
    "g12_array = g12_array.reshape((200, 200, 200))\n",
    "print(g12_array.itemsize * g12_array.size)\n",
    "print(g12_array[:, :, 0])\n",
    "print(g12_array[:, 50, :])\n",
    "\"\"\"\n",
    "    # Reformat the array\n",
    "    g12_array = g12_array.reshape((200, 200, 200))  # We now have (z, x, y) array.\n",
    "    for array_sample, index in enumerate(indexes_list):\n",
    "        if counter + array_sample == 500:\n",
    "            npz_file_counter, combined_array = save_array(npz_file_counter, combined_array)\n",
    "            counter = 0\n",
    "        combined_array[counter + array_sample] = g12_array[:, :, index]\n",
    "    counter += len(indexes_list)\n",
    "    for array_sample, index in enumerate(indexes_list):\n",
    "        if counter + array_sample == 500:\n",
    "            npz_file_counter, combined_array = save_array(npz_file_counter, combined_array)\n",
    "            counter = 0\n",
    "        combined_array[counter + array_sample] = g12_array[:, index, :]\n",
    "    counter += len(indexes_list)\n",
    "    file.unlink()\n",
    "_ = save_array(npz_file_counter, combined_array)\"\"\""
   ]
  },
  {
   "cell_type": "code",
   "execution_count": null,
   "metadata": {},
   "outputs": [],
   "source": []
  }
 ],
 "metadata": {
  "kernelspec": {
   "display_name": "venv",
   "language": "python",
   "name": "python3"
  },
  "language_info": {
   "codemirror_mode": {
    "name": "ipython",
    "version": 3
   },
   "file_extension": ".py",
   "mimetype": "text/x-python",
   "name": "python",
   "nbconvert_exporter": "python",
   "pygments_lexer": "ipython3",
   "version": "3.11.5"
  }
 },
 "nbformat": 4,
 "nbformat_minor": 2
}
